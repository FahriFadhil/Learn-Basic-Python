{
 "cells": [
  {
   "cell_type": "code",
   "execution_count": 2,
   "id": "c0202ce6",
   "metadata": {},
   "outputs": [
    {
     "name": "stdout",
     "output_type": "stream",
     "text": [
      "Gauss-Seidel Iterations:\n",
      "Iteration 1: ['1.75000', '2.08333', '-1.96667'], Error = 3.35716e+00\n",
      "Iteration 2: ['2.76250', '2.74861', '-2.30222'], Error = 1.25712e+00\n",
      "Iteration 3: ['3.01271', '2.88794', '-2.38013'], Error = 2.96793e-01\n",
      "Iteration 4: ['3.06702', '2.91903', '-2.39721'], Error = 6.48661e-02\n",
      "Iteration 5: ['3.07906', '2.92589', '-2.40099'], Error = 1.43653e-02\n",
      "Iteration 6: ['3.08172', '2.92740', '-2.40182'], Error = 3.17418e-03\n",
      "Iteration 7: ['3.08231', '2.92774', '-2.40201'], Error = 7.01644e-04\n",
      "Iteration 8: ['3.08244', '2.92781', '-2.40205'], Error = 1.55086e-04\n",
      "Iteration 9: ['3.08247', '2.92783', '-2.40206'], Error = 3.42795e-05\n",
      "Iteration 10: ['3.08247', '2.92783', '-2.40206'], Error = 7.57696e-06\n",
      "Converged!\n",
      "\n",
      "Final result: ['3.08247', '2.92783', '-2.40206']\n"
     ]
    }
   ],
   "source": [
    "def gauss_seidel(A, b, max_iterations=25, tolerance=1e-4):\n",
    "    n = len(A)\n",
    "    x = [0.0 for _ in range(n)]\n",
    "    \n",
    "    print(\"Gauss-Seidel Iterations:\")\n",
    "    for iteration in range(1, max_iterations + 1):\n",
    "        x_new = x.copy()\n",
    "\n",
    "        for i in range(n):\n",
    "            sum1 = sum(A[i][j] * x_new[j] for j in range(i))\n",
    "            sum2 = sum(A[i][j] * x[j] for j in range(i + 1, n))\n",
    "            x_new[i] = (b[i] - sum1 - sum2) / A[i][i]\n",
    "\n",
    "        # Calculate error (Euclidean norm)\n",
    "        error = sum((x_new[i] - x[i])**2 for i in range(n)) ** 0.5\n",
    "\n",
    "        print(f\"Iteration {iteration}: {['{:.5f}'.format(v) for v in x_new]}, Error = {error:.5e}\")\n",
    "\n",
    "        if error < tolerance:\n",
    "            print(\"Converged!\")\n",
    "            return x_new\n",
    "\n",
    "        x = x_new\n",
    "\n",
    "    print(\"Reached maximum iterations without full convergence.\")\n",
    "    return x\n",
    "\n",
    "A = [\n",
    "    [4, -1, 1],\n",
    "    [-2, 6, 1],\n",
    "    [1, 1, 5]\n",
    "]\n",
    "b = [7, 9, -6]\n",
    "\n",
    "result = gauss_seidel(A, b, max_iterations=50, tolerance=1e-5)\n",
    "print(\"\\nFinal result:\", [\"{:.5f}\".format(xi) for xi in result])\n"
   ]
  },
  {
   "cell_type": "code",
   "execution_count": null,
   "id": "2f540890",
   "metadata": {},
   "outputs": [
    {
     "name": "stdout",
     "output_type": "stream",
     "text": [
      "Gauss-Seidel Iterations:\n",
      "Iter 1: x = 1.7500, y = 2.0833, z = -1.9667\n",
      "Iter 2: x = 2.7625, y = 2.7486, z = -2.3022\n",
      "Iter 3: x = 3.0127, y = 2.8879, z = -2.3801\n",
      "Iter 4: x = 3.0670, y = 2.9190, z = -2.3972\n",
      "Iter 5: x = 3.0791, y = 2.9259, z = -2.4010\n",
      "Iter 6: x = 3.0817, y = 2.9274, z = -2.4018\n",
      "Converged!\n",
      "\n",
      "Final Solution: [3.079059085648148, 2.9258878536522634, -2.400989387860082]\n"
     ]
    }
   ],
   "source": [
    "def gauss_seidel(A, b, max_iter=20, tol=0.01):\n",
    "    x = [0, 0, 0]  # initial guess\n",
    "\n",
    "    print(\"Gauss-Seidel Iterations:\")\n",
    "    for itr in range(1, max_iter + 1):\n",
    "        x_new = x.copy()\n",
    "\n",
    "        # Update each variable\n",
    "        x_new[0] = (b[0] - A[0][1]*x[1] - A[0][2]*x[2]) / A[0][0]\n",
    "        x_new[1] = (b[1] - A[1][0]*x_new[0] - A[1][2]*x[2]) / A[1][1]\n",
    "        x_new[2] = (b[2] - A[2][0]*x_new[0] - A[2][1]*x_new[1]) / A[2][2]\n",
    "\n",
    "        # Show results\n",
    "        print(f\"Iteration {itr}: x = {x_new[0]:.4f}, y = {x_new[1]:.4f}, z = {x_new[2]:.4f}\")\n",
    "\n",
    "        # Check convergence\n",
    "        if all(abs(x_new[i] - x[i]) < tol for i in range(3)):\n",
    "            print(\"Converged!\")\n",
    "            break\n",
    "\n",
    "        x = x_new\n",
    "\n",
    "    return x\n",
    "\n",
    "A = [\n",
    "    [4, -1, 1],\n",
    "    [-2, 6, 1],\n",
    "    [1, 1, 5]\n",
    "]\n",
    "b = [7, 9, -6]\n",
    "\n",
    "solution = gauss_seidel(A, b)\n",
    "print(\"\\nFinal Solution:\", solution)"
   ]
  }
 ],
 "metadata": {
  "kernelspec": {
   "display_name": "Python 3",
   "language": "python",
   "name": "python3"
  },
  "language_info": {
   "codemirror_mode": {
    "name": "ipython",
    "version": 3
   },
   "file_extension": ".py",
   "mimetype": "text/x-python",
   "name": "python",
   "nbconvert_exporter": "python",
   "pygments_lexer": "ipython3",
   "version": "3.13.3"
  }
 },
 "nbformat": 4,
 "nbformat_minor": 5
}
