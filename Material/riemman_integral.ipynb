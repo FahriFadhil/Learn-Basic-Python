{
 "cells": [
  {
   "cell_type": "code",
   "execution_count": 3,
   "id": "7f01bcbb",
   "metadata": {},
   "outputs": [],
   "source": [
    "import numpy as np\n",
    "\n",
    "def f(x) :\n",
    "    return x**3-(3*x**2)+2\n",
    "\n",
    "x_min = 2\n",
    "x_max = 14\n",
    "n = 300\n",
    "\n",
    "px = np.linspace(x_min, x_max, n)\n",
    "w = px[1] - px[0]"
   ]
  },
  {
   "cell_type": "code",
   "execution_count": 5,
   "id": "ca5950cf",
   "metadata": {},
   "outputs": [
    {
     "name": "stdout",
     "output_type": "stream",
     "text": [
      "6844.723168644643\n"
     ]
    }
   ],
   "source": [
    "# Left Riemman\n",
    "\n",
    "total_len = np.sum(f(px[0:n-1]))\n",
    "area = total_len * w\n",
    "print(area)"
   ]
  },
  {
   "cell_type": "code",
   "execution_count": 6,
   "id": "90b7377d",
   "metadata": {},
   "outputs": [
    {
     "name": "stdout",
     "output_type": "stream",
     "text": [
      "6931.412131855345\n"
     ]
    }
   ],
   "source": [
    "# Right Riemman\n",
    "\n",
    "total_len = np.sum(f(px[1:n]))\n",
    "area = total_len * w\n",
    "print(area)"
   ]
  },
  {
   "cell_type": "code",
   "execution_count": 5,
   "id": "2d1a9696",
   "metadata": {},
   "outputs": [
    {
     "name": "stdout",
     "output_type": "stream",
     "text": [
      "6887.966174874997\n"
     ]
    }
   ],
   "source": [
    "# Mid Riemman\n",
    "\n",
    "mid_x = (px[0:n-1] + px[1:n])/2\n",
    "total_len = np.sum(f(mid_x))\n",
    "area = total_len * w\n",
    "print(area)"
   ]
  },
  {
   "cell_type": "code",
   "execution_count": null,
   "id": "67623e32",
   "metadata": {},
   "outputs": [
    {
     "name": "stdout",
     "output_type": "stream",
     "text": [
      "6888.067650249994\n"
     ]
    }
   ],
   "source": [
    "# Trapezoid Riemman\n",
    "\n",
    "a = np.sum(f(px[0:n-1]))\n",
    "b = np.sum(f(px[1:n]))\n",
    "area_trapeezoid = w * (a + b) / 2\n",
    "print(area_trapeezoid)"
   ]
  }
 ],
 "metadata": {
  "kernelspec": {
   "display_name": "Python 3",
   "language": "python",
   "name": "python3"
  },
  "language_info": {
   "codemirror_mode": {
    "name": "ipython",
    "version": 3
   },
   "file_extension": ".py",
   "mimetype": "text/x-python",
   "name": "python",
   "nbconvert_exporter": "python",
   "pygments_lexer": "ipython3",
   "version": "3.13.3"
  }
 },
 "nbformat": 4,
 "nbformat_minor": 5
}
