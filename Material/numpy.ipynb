{
 "cells": [
  {
   "cell_type": "code",
   "execution_count": null,
   "id": "3fcb8317",
   "metadata": {},
   "outputs": [
    {
     "name": "stdout",
     "output_type": "stream",
     "text": [
      "[10  8  9]\n",
      "[3 3 5]\n"
     ]
    }
   ],
   "source": [
    "\n",
    "import numpy as np\n",
    "\n",
    "# Gauss-Seidel = np.array, np.dot, np.linalg.norm, np.diag, np.fill_diagonal\n",
    "# Least Squares = np.array, np.dot, .T, np.linalg.inv, np.linalg.pinv, np.linalg.lstsq\n",
    "# Newton-Raphson = np.abs, np.array, (optionally np.linspace)\n",
    "# Riemann Integral = np.linspace, np.array, np.sum"
   ]
  }
 ],
 "metadata": {
  "kernelspec": {
   "display_name": "Python 3",
   "language": "python",
   "name": "python3"
  },
  "language_info": {
   "codemirror_mode": {
    "name": "ipython",
    "version": 3
   },
   "file_extension": ".py",
   "mimetype": "text/x-python",
   "name": "python",
   "nbconvert_exporter": "python",
   "pygments_lexer": "ipython3",
   "version": "3.13.3"
  }
 },
 "nbformat": 4,
 "nbformat_minor": 5
}
