{
 "cells": [
  {
   "cell_type": "code",
   "execution_count": 6,
   "metadata": {},
   "outputs": [
    {
     "name": "stdout",
     "output_type": "stream",
     "text": [
      "Iterasi 1: [ 1.75        2.08333333 -1.96666667]\n",
      "Iterasi 2: [ 2.7625      2.74861111 -2.30222222]\n",
      "Iterasi 3: [ 3.01270833  2.88793981 -2.38012963]\n",
      "Iterasi 4: [ 3.06701736  2.91902739 -2.39720895]\n",
      "Iterasi 5: [ 3.07905909  2.92588785 -2.40098939]\n",
      "Iterasi 6: [ 3.08171931  2.92740467 -2.4018248 ]\n",
      "Konvergensi tercapai.\n"
     ]
    },
    {
     "data": {
      "text/plain": [
       "array([ 3.08171931,  2.92740467, -2.4018248 ])"
      ]
     },
     "execution_count": 6,
     "metadata": {},
     "output_type": "execute_result"
    }
   ],
   "source": [
    "import numpy\n",
    "\n",
    "matrixX = [[4, -1, 1], [-2, 6, 1], [1, 1, 5]]\n",
    "matrixY = [7, 9, -6]\n",
    "\n",
    "def checkDiag(m):\n",
    "    diag = numpy.diag(numpy.abs(m))\n",
    "    non_diag = numpy.sum(numpy.abs(m), axis=1) - diag\n",
    "    for i in range(len(diag)):\n",
    "        if diag[i] < non_diag[i]:\n",
    "            return False\n",
    "    return True\n",
    "\n",
    "def gaussSeidel(m1, m2, n=20, e=0.01):\n",
    "    if not checkDiag(m1):\n",
    "        print(\"Matriks tidak dominan diagonal, metode mungkin tidak konvergen.\")\n",
    "        return\n",
    "\n",
    "    oldGuess = numpy.zeros(len(m1))\n",
    "    diag = numpy.diag(m1)\n",
    "    m1 = -m1\n",
    "    numpy.fill_diagonal(m1, 0)\n",
    "\n",
    "    for i in range(n):\n",
    "        newGuess = numpy.array(oldGuess)\n",
    "        for j, row in enumerate(m1):\n",
    "            newGuess[j] = (m2[j] + numpy.dot(row, newGuess)) / diag[j]\n",
    "\n",
    "        print(f\"Iterasi {i + 1}: {newGuess}\")\n",
    "\n",
    "        eDist = numpy.sqrt(numpy.dot(newGuess - oldGuess, newGuess - oldGuess))\n",
    "        if eDist < e:\n",
    "            print(\"Konvergensi tercapai.\")\n",
    "            return newGuess\n",
    "\n",
    "        oldGuess = newGuess\n",
    "\n",
    "    print(\"Batas iterasi tercapai, solusi mungkin belum konvergen.\")\n",
    "    return newGuess\n",
    "\n",
    "gaussSeidel(numpy.array(matrixX), numpy.array(matrixY))\n"
   ]
  }
 ],
 "metadata": {
  "kernelspec": {
   "display_name": "Python 3",
   "language": "python",
   "name": "python3"
  },
  "language_info": {
   "codemirror_mode": {
    "name": "ipython",
    "version": 3
   },
   "file_extension": ".py",
   "mimetype": "text/x-python",
   "name": "python",
   "nbconvert_exporter": "python",
   "pygments_lexer": "ipython3",
   "version": "3.13.2"
  }
 },
 "nbformat": 4,
 "nbformat_minor": 2
}
