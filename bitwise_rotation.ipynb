{
 "cells": [
  {
   "cell_type": "code",
   "execution_count": 5,
   "metadata": {},
   "outputs": [
    {
     "name": "stdout",
     "output_type": "stream",
     "text": [
      "Shifted Hex Data:\n",
      "41 15 51 25 49 ED CD C4 B9 8D CC 7D D1 A1 C4 CD 7D C4 D4 7D 8D C4 C9 8D DC B1 D0 C9 7D 91 C0 CC CD 7D C4 D1 7D DC CD CC 7D C1 A1 C4 F5\n"
     ]
    }
   ],
   "source": [
    "def circular_shift(byte, shift):\n",
    "    \"\"\"Performs circular shift on an 8-bit byte\"\"\"\n",
    "    shift = shift % 8  # Ensure shift is within 0-7 range\n",
    "    return ((byte << shift) & 0xFF) | (byte >> (8 - shift))\n",
    "\n",
    "# Given hex string\n",
    "hex_data = \"A0 8A A8 92 A4 F6 E6 62 DC C6 66 BE E8 D0 62 E6 BE 62 6A BE C6 62 E4 C6 6E D8 68 E4 BE C8 60 66 E6 BE 62 E8 BE 6E E6 66 BE E0 D0 62 FA\"\n",
    "\n",
    "# Convert hex to list of integers\n",
    "bytes_list = [int(byte, 16) for byte in hex_data.split()]\n",
    "\n",
    "# Apply circular shift (left by 1 bit since 1337 mod 8 = 1)\n",
    "shifted_bytes = [circular_shift(byte, 1) for byte in bytes_list]\n",
    "\n",
    "# Convert back to hex\n",
    "shifted_hex = \" \".join(f\"{byte:02X}\" for byte in shifted_bytes)\n",
    "\n",
    "print(\"Shifted Hex Data:\")\n",
    "print(shifted_hex)\n"
   ]
  }
 ],
 "metadata": {
  "kernelspec": {
   "display_name": "Python 3",
   "language": "python",
   "name": "python3"
  },
  "language_info": {
   "codemirror_mode": {
    "name": "ipython",
    "version": 3
   },
   "file_extension": ".py",
   "mimetype": "text/x-python",
   "name": "python",
   "nbconvert_exporter": "python",
   "pygments_lexer": "ipython3",
   "version": "3.13.2"
  }
 },
 "nbformat": 4,
 "nbformat_minor": 2
}
