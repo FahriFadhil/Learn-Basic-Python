{
 "cells": [
  {
   "cell_type": "code",
   "execution_count": null,
   "id": "cc465efa",
   "metadata": {},
   "outputs": [
    {
     "name": "stdout",
     "output_type": "stream",
     "text": [
      "Iterasi 1 => 330.9254977831877\n",
      "Iterasi 2 => 93.25967196907378\n",
      "Iterasi 3 => 21.671524492800494\n",
      "Iterasi 4 => 2.8112989637625816\n",
      "Iterasi 5 => 0.07505562986947467\n",
      "Iterasi 6 => 5.8462170773765365e-05\n",
      "root found in 2.0588327807623186\n"
     ]
    }
   ],
   "source": [
    "import numpy as np\n",
    "\n",
    "# np.sign() -> change any n < 0 to -1 and n > 0 to 1\n",
    "# np.abs()-> make any n positive\n",
    "\n",
    "def f(x):\n",
    "    return x**4 + 6*x**3 - 10*x**2 + x - 30\n",
    "\n",
    "def g(x):\n",
    "    return 4*x**3 + 18*x**2 - 20*x + 1\n",
    "\n",
    "def raphson(x0, i = 1, tol = 0.074):\n",
    "    x1 = x0 - (f(x0) / g(x0))\n",
    "    print(f\"Iterasi {i} => {f(x1)}\")\n",
    "\n",
    "    if(np.abs(f(x1)) < tol):\n",
    "        print(f\"root found in {x1}\")\n",
    "        return\n",
    "    else:\n",
    "        raphson(x1, i+1)\n",
    "\n",
    "raphson(5)"
   ]
  },
  {
   "cell_type": "code",
   "execution_count": null,
   "id": "4011187b",
   "metadata": {},
   "outputs": [],
   "source": [
    "\n",
    "def f(x):\n",
    "    return x**4 + 6*x**3 - 10*x**2 + x - 30\n",
    "\n"
   ]
  }
 ],
 "metadata": {
  "kernelspec": {
   "display_name": "Python 3",
   "language": "python",
   "name": "python3"
  },
  "language_info": {
   "codemirror_mode": {
    "name": "ipython",
    "version": 3
   },
   "file_extension": ".py",
   "mimetype": "text/x-python",
   "name": "python",
   "nbconvert_exporter": "python",
   "pygments_lexer": "ipython3",
   "version": "3.13.3"
  }
 },
 "nbformat": 4,
 "nbformat_minor": 5
}
